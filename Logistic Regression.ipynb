{
 "cells": [
  {
   "cell_type": "markdown",
   "id": "7046fa6a",
   "metadata": {},
   "source": [
    "#### The data here we using is prepocessed in feature engineering notbook here we just fitting the model"
   ]
  },
  {
   "cell_type": "code",
   "execution_count": 1,
   "id": "b091bb0f",
   "metadata": {},
   "outputs": [],
   "source": [
    "import pandas as pd\n",
    "import numpy as np\n",
    "from sklearn.linear_model import LogisticRegression\n",
    "from sklearn.model_selection import train_test_split\n",
    "from sklearn.metrics import accuracy_score,confusion_matrix,classification_report,precision_score,recall_score,f1_score,roc_auc_score,roc_curve\n",
    "import seaborn as sns\n",
    "sns.set(style=\"white\")\n",
    "sns.set(style=\"whitegrid\", color_codes=True)"
   ]
  },
  {
   "cell_type": "code",
   "execution_count": 2,
   "id": "90b83d43",
   "metadata": {},
   "outputs": [],
   "source": [
    "df=pd.read_csv('heart_clean')"
   ]
  },
  {
   "cell_type": "code",
   "execution_count": 3,
   "id": "b02d770c",
   "metadata": {},
   "outputs": [
    {
     "data": {
      "text/html": [
       "<div>\n",
       "<style scoped>\n",
       "    .dataframe tbody tr th:only-of-type {\n",
       "        vertical-align: middle;\n",
       "    }\n",
       "\n",
       "    .dataframe tbody tr th {\n",
       "        vertical-align: top;\n",
       "    }\n",
       "\n",
       "    .dataframe thead th {\n",
       "        text-align: right;\n",
       "    }\n",
       "</style>\n",
       "<table border=\"1\" class=\"dataframe\">\n",
       "  <thead>\n",
       "    <tr style=\"text-align: right;\">\n",
       "      <th></th>\n",
       "      <th>age</th>\n",
       "      <th>sex</th>\n",
       "      <th>cp</th>\n",
       "      <th>restecg</th>\n",
       "      <th>exng</th>\n",
       "      <th>slp</th>\n",
       "      <th>caa</th>\n",
       "      <th>thall</th>\n",
       "      <th>oldpeak_sqrt</th>\n",
       "      <th>thalachh_boxcox</th>\n",
       "      <th>chol_boxcox</th>\n",
       "      <th>trtbps_boxcox</th>\n",
       "      <th>output</th>\n",
       "    </tr>\n",
       "  </thead>\n",
       "  <tbody>\n",
       "    <tr>\n",
       "      <th>0</th>\n",
       "      <td>0.592593</td>\n",
       "      <td>0.0</td>\n",
       "      <td>1.0</td>\n",
       "      <td>-1.0</td>\n",
       "      <td>0.0</td>\n",
       "      <td>-1.0</td>\n",
       "      <td>0.0</td>\n",
       "      <td>-1.0</td>\n",
       "      <td>0.491851</td>\n",
       "      <td>-0.093596</td>\n",
       "      <td>-0.112716</td>\n",
       "      <td>0.680371</td>\n",
       "      <td>1</td>\n",
       "    </tr>\n",
       "    <tr>\n",
       "      <th>1</th>\n",
       "      <td>-1.333333</td>\n",
       "      <td>0.0</td>\n",
       "      <td>0.5</td>\n",
       "      <td>0.0</td>\n",
       "      <td>0.0</td>\n",
       "      <td>-1.0</td>\n",
       "      <td>0.0</td>\n",
       "      <td>0.0</td>\n",
       "      <td>0.771913</td>\n",
       "      <td>1.224258</td>\n",
       "      <td>0.154868</td>\n",
       "      <td>0.000000</td>\n",
       "      <td>1</td>\n",
       "    </tr>\n",
       "    <tr>\n",
       "      <th>2</th>\n",
       "      <td>-1.037037</td>\n",
       "      <td>-1.0</td>\n",
       "      <td>0.0</td>\n",
       "      <td>-1.0</td>\n",
       "      <td>0.0</td>\n",
       "      <td>1.0</td>\n",
       "      <td>0.0</td>\n",
       "      <td>0.0</td>\n",
       "      <td>0.228308</td>\n",
       "      <td>0.646706</td>\n",
       "      <td>-0.623238</td>\n",
       "      <td>0.000000</td>\n",
       "      <td>1</td>\n",
       "    </tr>\n",
       "    <tr>\n",
       "      <th>3</th>\n",
       "      <td>0.074074</td>\n",
       "      <td>0.0</td>\n",
       "      <td>0.0</td>\n",
       "      <td>0.0</td>\n",
       "      <td>0.0</td>\n",
       "      <td>1.0</td>\n",
       "      <td>0.0</td>\n",
       "      <td>0.0</td>\n",
       "      <td>0.000000</td>\n",
       "      <td>0.870551</td>\n",
       "      <td>-0.063957</td>\n",
       "      <td>-0.532647</td>\n",
       "      <td>1</td>\n",
       "    </tr>\n",
       "    <tr>\n",
       "      <th>4</th>\n",
       "      <td>0.148148</td>\n",
       "      <td>-1.0</td>\n",
       "      <td>-0.5</td>\n",
       "      <td>0.0</td>\n",
       "      <td>1.0</td>\n",
       "      <td>1.0</td>\n",
       "      <td>0.0</td>\n",
       "      <td>0.0</td>\n",
       "      <td>-0.094734</td>\n",
       "      <td>0.328684</td>\n",
       "      <td>1.447656</td>\n",
       "      <td>-0.532647</td>\n",
       "      <td>1</td>\n",
       "    </tr>\n",
       "  </tbody>\n",
       "</table>\n",
       "</div>"
      ],
      "text/plain": [
       "        age  sex   cp  restecg  exng  slp  caa  thall  oldpeak_sqrt  \\\n",
       "0  0.592593  0.0  1.0     -1.0   0.0 -1.0  0.0   -1.0      0.491851   \n",
       "1 -1.333333  0.0  0.5      0.0   0.0 -1.0  0.0    0.0      0.771913   \n",
       "2 -1.037037 -1.0  0.0     -1.0   0.0  1.0  0.0    0.0      0.228308   \n",
       "3  0.074074  0.0  0.0      0.0   0.0  1.0  0.0    0.0      0.000000   \n",
       "4  0.148148 -1.0 -0.5      0.0   1.0  1.0  0.0    0.0     -0.094734   \n",
       "\n",
       "   thalachh_boxcox  chol_boxcox  trtbps_boxcox  output  \n",
       "0        -0.093596    -0.112716       0.680371       1  \n",
       "1         1.224258     0.154868       0.000000       1  \n",
       "2         0.646706    -0.623238       0.000000       1  \n",
       "3         0.870551    -0.063957      -0.532647       1  \n",
       "4         0.328684     1.447656      -0.532647       1  "
      ]
     },
     "execution_count": 3,
     "metadata": {},
     "output_type": "execute_result"
    }
   ],
   "source": [
    "df.head()"
   ]
  },
  {
   "cell_type": "code",
   "execution_count": 4,
   "id": "1fb61e5c",
   "metadata": {},
   "outputs": [],
   "source": [
    "x=df.drop(['output'],axis=1)\n",
    "y=df['output']"
   ]
  },
  {
   "cell_type": "code",
   "execution_count": 5,
   "id": "b67518cf",
   "metadata": {},
   "outputs": [],
   "source": [
    "x_train,x_test,y_train,y_test=train_test_split(x,y,shuffle=True,random_state=30,stratify=df['output'])"
   ]
  },
  {
   "cell_type": "code",
   "execution_count": 6,
   "id": "e2ea1784",
   "metadata": {},
   "outputs": [
    {
     "data": {
      "text/plain": [
       "LogisticRegression()"
      ]
     },
     "execution_count": 6,
     "metadata": {},
     "output_type": "execute_result"
    }
   ],
   "source": [
    "#Model fitting with default parameters:\n",
    "lgr=LogisticRegression()\n",
    "lgr.fit(x_train,y_train)"
   ]
  },
  {
   "cell_type": "markdown",
   "id": "1a0dbd49",
   "metadata": {},
   "source": [
    "### Predicted results:"
   ]
  },
  {
   "cell_type": "code",
   "execution_count": 7,
   "id": "582d723b",
   "metadata": {},
   "outputs": [],
   "source": [
    "y_pred=lgr.predict(x_test)"
   ]
  },
  {
   "cell_type": "markdown",
   "id": "5daa7f15",
   "metadata": {},
   "source": [
    "predicted probabilites: Here I will predict the probabilites of output using predict_proba function\n",
    "The function predict_proba() returns a numpy array of two columns. \n",
    "The first column is the probability that target=0 and the second column is the probability that target=1 . "
   ]
  },
  {
   "cell_type": "code",
   "execution_count": 8,
   "id": "fa62292f",
   "metadata": {},
   "outputs": [],
   "source": [
    "y_pred_proba=lgr.predict_proba(x_test)"
   ]
  },
  {
   "cell_type": "code",
   "execution_count": 9,
   "id": "df552f52",
   "metadata": {},
   "outputs": [],
   "source": [
    "y_pred_proba1=pd.DataFrame(data=y_pred_proba,columns=['y_pred0','y_pred1'])"
   ]
  },
  {
   "cell_type": "code",
   "execution_count": null,
   "id": "6f3c28b3",
   "metadata": {},
   "outputs": [],
   "source": []
  },
  {
   "cell_type": "markdown",
   "id": "19373bbb",
   "metadata": {},
   "source": [
    "## Evalution of Model"
   ]
  },
  {
   "cell_type": "markdown",
   "id": "6d6b8e98",
   "metadata": {},
   "source": [
    "### Accuracy Score"
   ]
  },
  {
   "cell_type": "code",
   "execution_count": 10,
   "id": "0523c1e4",
   "metadata": {},
   "outputs": [
    {
     "name": "stdout",
     "output_type": "stream",
     "text": [
      "accuracy_score for train set :0.8502202643171806\n",
      "accuracy_score for test set :0.8026315789473685\n"
     ]
    }
   ],
   "source": [
    "print(f\"accuracy_score for train set :{lgr.score(x_train,y_train)}\")\n",
    "print(f\"accuracy_score for test set :{lgr.score(x_test,y_test)}\")"
   ]
  },
  {
   "cell_type": "markdown",
   "id": "2866b2e1",
   "metadata": {},
   "source": [
    "### checking for underfitting or overfitting"
   ]
  },
  {
   "cell_type": "markdown",
   "id": "71af5932",
   "metadata": {},
   "source": [
    "Accuracy score for train set and test set is quite comparable so there is no case of overfitting and \n",
    "it does not seems underfitting also as test accuracy is than train accuracy.\n",
    "here we used default value of C=1 we can vary value of C to see the impact on accuracy and underfitting or overfitting condition"
   ]
  },
  {
   "cell_type": "code",
   "execution_count": 11,
   "id": "1176f15e",
   "metadata": {},
   "outputs": [
    {
     "name": "stdout",
     "output_type": "stream",
     "text": [
      "for C=0.01 Accuracy are\n",
      "accuracy_score for train set :0.8105726872246696\n",
      "accuracy_score for test set :0.8289473684210527\n",
      "-----------------------------------------------------------\n",
      "for C=0.1 Accuracy are\n",
      "accuracy_score for train set :0.8546255506607929\n",
      "accuracy_score for test set :0.8421052631578947\n",
      "-----------------------------------------------------------\n",
      "for C=10 Accuracy are\n",
      "accuracy_score for train set :0.8458149779735683\n",
      "accuracy_score for test set :0.8157894736842105\n",
      "-----------------------------------------------------------\n",
      "for C=100 Accuracy are\n",
      "accuracy_score for train set :0.8414096916299559\n",
      "accuracy_score for test set :0.8157894736842105\n",
      "-----------------------------------------------------------\n"
     ]
    }
   ],
   "source": [
    "c_value=[0.01,0.1,10,100]\n",
    "\n",
    "for i in c_value:\n",
    "    lgr_c=LogisticRegression(C=i)\n",
    "    lgr_c.fit(x_train,y_train)\n",
    "    print(f\"for C={i} Accuracy are\")\n",
    "    print(f\"accuracy_score for train set :{lgr_c.score(x_train,y_train)}\")\n",
    "    print(f\"accuracy_score for test set :{lgr_c.score(x_test,y_test)}\")\n",
    "    print(\"-----------------------------------------------------------\")"
   ]
  },
  {
   "cell_type": "markdown",
   "id": "f14b26a7",
   "metadata": {},
   "source": [
    "observation:\n",
    "   1. with more regularized model value of c=0.01 I get and underfitting model\n",
    "   2. with high value of c=10,100 I get balanced model but accuracy is decreased\n",
    "   3. with c=0.1 I get quite comparable accuracy score result."
   ]
  },
  {
   "cell_type": "markdown",
   "id": "130e6a6d",
   "metadata": {},
   "source": [
    "### Null accuracy compare:\n",
    "\n",
    "So, the model accuracy is 0.8502. But, we cannot say that our model is very good based on the above accuracy. We must compare it with the null accuracy. \n",
    "null accuracy:it is the accuracy that could be achieved by always predicting the most frequent class. "
   ]
  },
  {
   "cell_type": "code",
   "execution_count": 12,
   "id": "97d386f1",
   "metadata": {},
   "outputs": [
    {
     "data": {
      "text/plain": [
       "1    165\n",
       "0    138\n",
       "Name: output, dtype: int64"
      ]
     },
     "execution_count": 12,
     "metadata": {},
     "output_type": "execute_result"
    }
   ],
   "source": [
    "df['output'].value_counts()"
   ]
  },
  {
   "cell_type": "code",
   "execution_count": 13,
   "id": "78fec885",
   "metadata": {},
   "outputs": [
    {
     "name": "stdout",
     "output_type": "stream",
     "text": [
      "null_accuracy=0.5445544554455446\n"
     ]
    }
   ],
   "source": [
    "most_frequent_output=1\n",
    "frequency_1=165\n",
    "print(f'null_accuracy={165/(165+138)}')"
   ]
  },
  {
   "cell_type": "markdown",
   "id": "f27d3221",
   "metadata": {},
   "source": [
    "I can see that my model accuracy score is 0.8502 with C=1 but null accuracy score is 0.5445, which is very less. So, I can conclude that my model is doing a very good job in predicting the class labels.\n",
    "Now, based on the above analysis I can conclude that my classification model accuracy is very good. \n",
    "But, it does not give the underlying distribution of values. Also, it does not tell anything about the type of errors  classifer is making.\n",
    "\n",
    "I will do more digging .I have another tool called Confusion matrix."
   ]
  },
  {
   "cell_type": "markdown",
   "id": "3c14421f",
   "metadata": {},
   "source": [
    "### confusion matrix\n",
    "confusion matrix is a technique for summarizing the performance of a classification algorithm.\n",
    "Calculating a confusion matrix can give you a better idea of what your classification model is getting right and what types of errors it is making.\n",
    "it Provides\n",
    "1. True Positive: True Positives occur when we predict an observation belongs to a certain class and the                        observation actually belongs to that class.\n",
    "2. True Negatives:True Negatives occur when we predict an observation does not belongs to a certain class and                    the observation actually does not belongs to that class.\n",
    "3. False positives: False Positives occur when we predict an observation belongs to a certain class and the                        observation actually does not belongs to that class.\n",
    "4. False Negatives: False Negatives occur when we predict an observation does not belongs to a certain class                       and the observation actually does not belongs to that class."
   ]
  },
  {
   "cell_type": "code",
   "execution_count": 14,
   "id": "c1d91b83",
   "metadata": {},
   "outputs": [
    {
     "data": {
      "image/png": "[encoded data removed]",
      "text/plain": [
       "<Figure size 432x288 with 2 Axes>"
      ]
     },
     "metadata": {},
     "output_type": "display_data"
    }
   ],
   "source": [
    "cm=confusion_matrix(y_test,y_pred)\n",
    "sns.heatmap(cm,annot=True,xticklabels=True,yticklabels=True)\n",
    "TN=cm[0,0]\n",
    "TP=cm[1,1]\n",
    "FP=cm[1,0]\n",
    "FN=cm[0,1]\n",
    "X= 'YTEST'\n",
    "Y='YPRED'"
   ]
  },
  {
   "cell_type": "markdown",
   "id": "219d4748",
   "metadata": {},
   "source": [
    "#### Classification Accuracy & Error:"
   ]
  },
  {
   "cell_type": "code",
   "execution_count": 15,
   "id": "741eb06f",
   "metadata": {},
   "outputs": [
    {
     "name": "stdout",
     "output_type": "stream",
     "text": [
      "Classification Accuracy: 0.8026315789473685\n",
      "Classification Error: 0.19736842105263158\n"
     ]
    }
   ],
   "source": [
    "#Classification Accuracy:\n",
    "CA=(TP+TN)/(TP+TN+FP+FN)\n",
    "print(f\"Classification Accuracy: {CA}\") # Model classified that much percent of data accurately\n",
    "\n",
    "\n",
    "\n",
    "#Classification Error:\n",
    "CE=(FP+FN)/(TP+TN+FP+FN)\n",
    "print(f\"Classification Error: {CE}\") # Model does not classified that much percent of data accurately"
   ]
  },
  {
   "cell_type": "markdown",
   "id": "9a834e1d",
   "metadata": {},
   "source": [
    "### Classification Report\n",
    "\n",
    "It is one of the performance evaluation metrics of a classification-based machine learning model. It displays  model’s precision, recall, F1 score and support."
   ]
  },
  {
   "cell_type": "code",
   "execution_count": 16,
   "id": "da890159",
   "metadata": {},
   "outputs": [
    {
     "name": "stdout",
     "output_type": "stream",
     "text": [
      "classification_report:\n",
      "               precision    recall  f1-score   support\n",
      "\n",
      "           0       0.86      0.69      0.76        35\n",
      "           1       0.77      0.90      0.83        41\n",
      "\n",
      "    accuracy                           0.80        76\n",
      "   macro avg       0.81      0.79      0.80        76\n",
      "weighted avg       0.81      0.80      0.80        76\n",
      "\n"
     ]
    }
   ],
   "source": [
    "print(f'classification_report:\\n {classification_report(y_test,y_pred)}')"
   ]
  },
  {
   "cell_type": "markdown",
   "id": "88296a2b",
   "metadata": {},
   "source": [
    "#### precision:\n",
    "It is defined as percentage of positive outcomes of all the prdicted positive outcomes.\n",
    "\n",
    "So, Precision identifies the proportion of correctly predicted positive outcome. It is more concerned with the \n",
    "\n",
    "\n",
    "positive class than the negative class.\n",
    "    \n",
    "    \n",
    "    formula: pre1=(TP/float(TP+FP))\n",
    "    it provides how precisely model evaluated class labels"
   ]
  },
  {
   "cell_type": "code",
   "execution_count": 17,
   "id": "fde8cd2a",
   "metadata": {},
   "outputs": [
    {
     "name": "stdout",
     "output_type": "stream",
     "text": [
      "precision for getting 1 0.9024390243902439\n"
     ]
    }
   ],
   "source": [
    "Precision=(TP/float(TP+FP))\n",
    "print(f\"precision for getting 1 {Precision}\")\n"
   ]
  },
  {
   "cell_type": "markdown",
   "id": "75dddfbb",
   "metadata": {},
   "source": [
    "#### Recall_score\n",
    "Recall can be defined as the percentage of correctly predicted positive outcomes out of all the actual positive outcomes. It can be given as the ratio of true positives (TP) to the sum of true positives and false \n",
    "\n",
    "negatives (TP + FN). Recall is also called Sensitivity.\n",
    "\n",
    "Recall identifies the proportion of correctly predicted actual positives.\n",
    "\n",
    "Out of all the people that have the disease, how many got positive test results?\n",
    "Mathematically, recall can be given as the ratio of TP to (TP + FN)."
   ]
  },
  {
   "cell_type": "code",
   "execution_count": 18,
   "id": "1c618d84",
   "metadata": {},
   "outputs": [
    {
     "name": "stdout",
     "output_type": "stream",
     "text": [
      "recall : 0.7708333333333334\n"
     ]
    }
   ],
   "source": [
    "recall=(TP/float(TP+FN))\n",
    "print(f\"recall : {recall}\")\n",
    "\n"
   ]
  },
  {
   "cell_type": "markdown",
   "id": "cbfa3337",
   "metadata": {},
   "source": [
    "#### specificity: Out of all the people that do not have the disease, how many got negative results?"
   ]
  },
  {
   "cell_type": "code",
   "execution_count": 19,
   "id": "d2b2137f",
   "metadata": {},
   "outputs": [
    {
     "name": "stdout",
     "output_type": "stream",
     "text": [
      "specificity: 0.8571428571428571\n"
     ]
    }
   ],
   "source": [
    "specificity=(TN/float(TN+FP))\n",
    "print(f\"specificity: {specificity}\")"
   ]
  },
  {
   "cell_type": "markdown",
   "id": "e6c6fe36",
   "metadata": {},
   "source": [
    "##### Sensitivity: Out of all the people that have the disease, how many got positive test results? it is same as recall"
   ]
  },
  {
   "cell_type": "markdown",
   "id": "e8b84164",
   "metadata": {},
   "source": [
    "##### f1_score\n",
    "F1 score, also known as balanced F-score or F-measure.\n",
    "\n",
    "The F1 score can be interpreted as a weighted average of the precision and recall, where an F1 score reaches its best value at 1 and worst score at 0. The relative contribution of precision and recall to the F1 score are equal. The formula for the F1 score is:\n",
    "\n",
    "F1 = 2 * (precision * recall) / (precision + recall)"
   ]
  },
  {
   "cell_type": "code",
   "execution_count": 20,
   "id": "25162356",
   "metadata": {},
   "outputs": [
    {
     "name": "stdout",
     "output_type": "stream",
     "text": [
      "F1_score: 0.8314606741573034\n"
     ]
    }
   ],
   "source": [
    "F1_score=2 *( (Precision * recall) / (Precision + recall))\n",
    "print(f\"F1_score: {F1_score}\")"
   ]
  },
  {
   "cell_type": "markdown",
   "id": "5b208713",
   "metadata": {},
   "source": [
    "##### Support: Count of test data point or rows\n",
    "Support is the actual number of occurrences of the class in our dataset.(value counts of target in test data set),here in our dataset\n",
    "\n",
    "support for 0 class-35\n",
    "\n",
    "support for 1 class-41"
   ]
  },
  {
   "cell_type": "markdown",
   "id": "c5d66fd5",
   "metadata": {},
   "source": [
    "conclusions:\n",
    "   1. High precision: 0.90 - \n",
    "   2. Low Recall\n",
    "   3. High specificity\n",
    "   4. high F1_score but not best :0.831"
   ]
  },
  {
   "cell_type": "code",
   "execution_count": null,
   "id": "489f9085",
   "metadata": {},
   "outputs": [],
   "source": []
  },
  {
   "cell_type": "code",
   "execution_count": 21,
   "id": "f7ec3852",
   "metadata": {},
   "outputs": [],
   "source": [
    "#### Check accuracy by adjusting thresdhold level "
   ]
  },
  {
   "cell_type": "code",
   "execution_count": 22,
   "id": "7e517379",
   "metadata": {},
   "outputs": [
    {
     "data": {
      "text/html": [
       "<div>\n",
       "<style scoped>\n",
       "    .dataframe tbody tr th:only-of-type {\n",
       "        vertical-align: middle;\n",
       "    }\n",
       "\n",
       "    .dataframe tbody tr th {\n",
       "        vertical-align: top;\n",
       "    }\n",
       "\n",
       "    .dataframe thead th {\n",
       "        text-align: right;\n",
       "    }\n",
       "</style>\n",
       "<table border=\"1\" class=\"dataframe\">\n",
       "  <thead>\n",
       "    <tr style=\"text-align: right;\">\n",
       "      <th></th>\n",
       "      <th>y_pred0</th>\n",
       "      <th>y_pred1</th>\n",
       "    </tr>\n",
       "  </thead>\n",
       "  <tbody>\n",
       "    <tr>\n",
       "      <th>0</th>\n",
       "      <td>0.365592</td>\n",
       "      <td>0.634408</td>\n",
       "    </tr>\n",
       "    <tr>\n",
       "      <th>1</th>\n",
       "      <td>0.003254</td>\n",
       "      <td>0.996746</td>\n",
       "    </tr>\n",
       "    <tr>\n",
       "      <th>2</th>\n",
       "      <td>0.272594</td>\n",
       "      <td>0.727406</td>\n",
       "    </tr>\n",
       "    <tr>\n",
       "      <th>3</th>\n",
       "      <td>0.085219</td>\n",
       "      <td>0.914781</td>\n",
       "    </tr>\n",
       "    <tr>\n",
       "      <th>4</th>\n",
       "      <td>0.059481</td>\n",
       "      <td>0.940519</td>\n",
       "    </tr>\n",
       "    <tr>\n",
       "      <th>5</th>\n",
       "      <td>0.940694</td>\n",
       "      <td>0.059306</td>\n",
       "    </tr>\n",
       "    <tr>\n",
       "      <th>6</th>\n",
       "      <td>0.286433</td>\n",
       "      <td>0.713567</td>\n",
       "    </tr>\n",
       "    <tr>\n",
       "      <th>7</th>\n",
       "      <td>0.059854</td>\n",
       "      <td>0.940146</td>\n",
       "    </tr>\n",
       "    <tr>\n",
       "      <th>8</th>\n",
       "      <td>0.316264</td>\n",
       "      <td>0.683736</td>\n",
       "    </tr>\n",
       "    <tr>\n",
       "      <th>9</th>\n",
       "      <td>0.123213</td>\n",
       "      <td>0.876787</td>\n",
       "    </tr>\n",
       "  </tbody>\n",
       "</table>\n",
       "</div>"
      ],
      "text/plain": [
       "    y_pred0   y_pred1\n",
       "0  0.365592  0.634408\n",
       "1  0.003254  0.996746\n",
       "2  0.272594  0.727406\n",
       "3  0.085219  0.914781\n",
       "4  0.059481  0.940519\n",
       "5  0.940694  0.059306\n",
       "6  0.286433  0.713567\n",
       "7  0.059854  0.940146\n",
       "8  0.316264  0.683736\n",
       "9  0.123213  0.876787"
      ]
     },
     "execution_count": 22,
     "metadata": {},
     "output_type": "execute_result"
    }
   ],
   "source": [
    "y_pred_proba1.head(10)"
   ]
  },
  {
   "cell_type": "markdown",
   "id": "f560e45b",
   "metadata": {},
   "source": [
    "observation:\n",
    "    In each row, the summation of numbers equal to 1.\n",
    "\n",
    "    There are 2 columns which correspond to 2 class labels of target - 0 and 1.\n",
    "\n",
    "Class 0 - predicted probability that patient doest not have heart disease.\n",
    "\n",
    "Class 1 - predicted probability that patient has heart disease.\n",
    "\n",
    "    Importance of predicted probabilities\n",
    "\n",
    "We can rank the observations by probability of rain or no rain.\n",
    "predict_proba process\n",
    "\n",
    "Predicts the probabilities\n",
    "\n",
    "Choose the class with the highest probability\n",
    "\n",
    "Classification threshold level\n",
    "\n",
    "There is a classification threshold level of 0.5.\n",
    "\n",
    "Class 1 - probability of rain is predicted if probability > 0.5.\n",
    "\n",
    "Class 0 - probability of no rain is predicted if probability < 0.5.\n",
    "\n"
   ]
  },
  {
   "cell_type": "code",
   "execution_count": 23,
   "id": "b41e7e80",
   "metadata": {},
   "outputs": [
    {
     "data": {
      "image/png": "[encoded data removed]",
      "text/plain": [
       "<Figure size 432x288 with 1 Axes>"
      ]
     },
     "metadata": {},
     "output_type": "display_data"
    }
   ],
   "source": [
    "#histogram of prediction of patient has heart disease\n",
    "import matplotlib.pyplot as plt\n",
    "plt.hist(y_pred_proba1['y_pred1'],bins=10)\n",
    "plt.title('prediction of patient has heart disease')\n",
    "plt.show()"
   ]
  },
  {
   "cell_type": "code",
   "execution_count": 24,
   "id": "d9663434",
   "metadata": {},
   "outputs": [],
   "source": [
    "#We can check effect on  TP,FP,TN,FN By adjusting threshold level"
   ]
  },
  {
   "cell_type": "code",
   "execution_count": 25,
   "id": "0d759593",
   "metadata": {},
   "outputs": [
    {
     "name": "stdout",
     "output_type": "stream",
     "text": [
      "[1.99674611 0.99674611 0.9641475  0.96294053 0.89074449 0.88308041\n",
      " 0.82851102 0.82443894 0.76710653 0.75695604 0.66810468 0.65787763\n",
      " 0.63658727 0.56228388 0.52586037 0.50542215 0.46968683 0.35297518\n",
      " 0.33742368 0.24965269 0.22509069 0.00827602]\n"
     ]
    },
    {
     "data": {
      "image/png": "[encoded data removed]",
      "text/plain": [
       "<Figure size 432x288 with 1 Axes>"
      ]
     },
     "metadata": {},
     "output_type": "display_data"
    }
   ],
   "source": [
    "#### ROC_Curve\n",
    "fpr,tpr,threshold=roc_curve(y_test,lgr.predict_proba(x_test)[:,1],pos_label=1)\n",
    "print(threshold)\n",
    "plt.plot(fpr,tpr)\n",
    "plt.xlabel('FALSE POSITIVE RATE')\n",
    "plt.ylabel('TRUE POSITIVE RATE')\n",
    "plt.show()"
   ]
  },
  {
   "cell_type": "markdown",
   "id": "0087a1b6",
   "metadata": {},
   "source": [
    "ROC curve help us to choose a threshold level that balances sensitivity and specificity for a particular context."
   ]
  },
  {
   "cell_type": "markdown",
   "id": "7870751a",
   "metadata": {},
   "source": [
    "#### ROC_AUC Score\n",
    "ROC AUC stands for Receiver Operating Characteristic - Area Under Curve. It is a technique to compare classifier performance. In this technique, we measure the area under the curve (AUC). A perfect classifier will have a ROC AUC equal to 1, whereas a purely random classifier will have a ROC AUC equal to 0.5.\n",
    "So, ROC AUC is the percentage of the ROC plot that is underneath the curve.\n"
   ]
  },
  {
   "cell_type": "code",
   "execution_count": 26,
   "id": "668d0c35",
   "metadata": {},
   "outputs": [
    {
     "name": "stdout",
     "output_type": "stream",
     "text": [
      "ROC_AUC_SCORE: 0.9066202090592335\n"
     ]
    }
   ],
   "source": [
    "ras=roc_auc_score(y_test,lgr.predict_proba(x_test)[:,1])\n",
    "print(f\"ROC_AUC_SCORE: {ras}\")"
   ]
  },
  {
   "cell_type": "markdown",
   "id": "765b3fb0",
   "metadata": {},
   "source": [
    "ROC AUC is a single number summary of classifier performance. The higher the value, the better the classifier.\n",
    "\n",
    "ROC AUC of our model approaches towards 1. So, we can conclude that our classifier does a good job in predicting whether it will rain to"
   ]
  },
  {
   "cell_type": "markdown",
   "id": "9f5c6a0b",
   "metadata": {},
   "source": [
    "#### Based on Feature Selection using cross validation technique:\n",
    "RFECV: Recursive Feature Elimination Cross Validation"
   ]
  },
  {
   "cell_type": "code",
   "execution_count": 27,
   "id": "db2df9f5",
   "metadata": {},
   "outputs": [
    {
     "data": {
      "text/plain": [
       "RFECV(cv=StratifiedKFold(n_splits=5, random_state=None, shuffle=False),\n",
       "      estimator=LogisticRegression(), scoring='accuracy')"
      ]
     },
     "execution_count": 27,
     "metadata": {},
     "output_type": "execute_result"
    }
   ],
   "source": [
    "from sklearn.model_selection import StratifiedKFold\n",
    "from sklearn.feature_selection import RFECV\n",
    "lgr_s=LogisticRegression()\n",
    "rfecv=RFECV(estimator=lgr_s,step=1,cv=StratifiedKFold(n_splits=5),scoring='accuracy',min_features_to_select=1)\n",
    "rfecv.fit(x_train,y_train)"
   ]
  },
  {
   "cell_type": "code",
   "execution_count": 28,
   "id": "807477cb",
   "metadata": {},
   "outputs": [
    {
     "name": "stdout",
     "output_type": "stream",
     "text": [
      "optimal features are: 7\n"
     ]
    }
   ],
   "source": [
    "print(f\"optimal features are: {rfecv.n_features_}\")"
   ]
  },
  {
   "cell_type": "code",
   "execution_count": 29,
   "id": "0a074690",
   "metadata": {},
   "outputs": [],
   "source": [
    "rfecv_x_train=rfecv.transform(x_train)\n",
    "rfecv_x_test=rfecv.transform(x_test)"
   ]
  },
  {
   "cell_type": "code",
   "execution_count": 30,
   "id": "c934dfef",
   "metadata": {},
   "outputs": [
    {
     "data": {
      "text/plain": [
       "LogisticRegression()"
      ]
     },
     "execution_count": 30,
     "metadata": {},
     "output_type": "execute_result"
    }
   ],
   "source": [
    "lgr_s.fit(rfecv_x_train,y_train)"
   ]
  },
  {
   "cell_type": "code",
   "execution_count": 31,
   "id": "771a2c96",
   "metadata": {},
   "outputs": [
    {
     "name": "stdout",
     "output_type": "stream",
     "text": [
      "score on train: 0.8370044052863436\n",
      "score on test: 0.7763157894736842\n"
     ]
    }
   ],
   "source": [
    "print(f\"score on train: {lgr_s.score(rfecv_x_train,y_train)}\")\n",
    "print(f\"score on test: {lgr_s.score(rfecv_x_test,y_test)}\")"
   ]
  },
  {
   "cell_type": "markdown",
   "id": "71524190",
   "metadata": {},
   "source": [
    "Accuracy score is reduced if i reduced the parameteres let's check with confusion matrix "
   ]
  },
  {
   "cell_type": "code",
   "execution_count": 32,
   "id": "8b8eb095",
   "metadata": {},
   "outputs": [
    {
     "data": {
      "image/png": "[encoded data removed]",
      "text/plain": [
       "<Figure size 432x288 with 2 Axes>"
      ]
     },
     "metadata": {},
     "output_type": "display_data"
    }
   ],
   "source": [
    "# Revisited confusion matrix\n",
    "cm=confusion_matrix(y_test,lgr_s.predict(rfecv_x_test))\n",
    "sns.heatmap(cm,annot=True,xticklabels=True,yticklabels=True)\n",
    "TN=cm[0,0]\n",
    "TP=cm[1,1]\n",
    "FP=cm[1,0]\n",
    "FN=cm[0,1]\n",
    "X= 'YTEST'\n",
    "Y='YPRED'"
   ]
  },
  {
   "cell_type": "code",
   "execution_count": 33,
   "id": "176382c6",
   "metadata": {},
   "outputs": [
    {
     "name": "stdout",
     "output_type": "stream",
     "text": [
      "Classification Accuracy: 0.7763157894736842\n",
      "Classification Error: 0.2236842105263158\n"
     ]
    }
   ],
   "source": [
    "#Classification Accuracy:\n",
    "CA=(TP+TN)/(TP+TN+FP+FN)\n",
    "print(f\"Classification Accuracy: {CA}\") # Model classified that much percent of data accurately\n",
    "\n",
    "\n",
    "\n",
    "#Classification Error:\n",
    "CE=(FP+FN)/(TP+TN+FP+FN)\n",
    "print(f\"Classification Error: {CE}\") # Model does not classified that much percent of data accurately"
   ]
  },
  {
   "cell_type": "markdown",
   "id": "8ef1b1ec",
   "metadata": {},
   "source": [
    "conclusion : classification accuracy is decreased and classification error is increased , our original model is performing better than this one"
   ]
  },
  {
   "cell_type": "code",
   "execution_count": null,
   "id": "30ec4b14",
   "metadata": {},
   "outputs": [],
   "source": []
  },
  {
   "cell_type": "code",
   "execution_count": null,
   "id": "feefd3b8",
   "metadata": {},
   "outputs": [],
   "source": []
  },
  {
   "cell_type": "code",
   "execution_count": null,
   "id": "43d76028",
   "metadata": {},
   "outputs": [],
   "source": []
  },
  {
   "cell_type": "markdown",
   "id": "1cc5c4e1",
   "metadata": {},
   "source": [
    "### Hyperparameter Tuning"
   ]
  },
  {
   "cell_type": "code",
   "execution_count": 34,
   "id": "7fcc7eba",
   "metadata": {},
   "outputs": [],
   "source": [
    "from sklearn.model_selection import RandomizedSearchCV\n",
    "lgr_h=LogisticRegression()\n",
    "params={'penalty':['l1', 'l2', 'elasticnet'],\n",
    "    'C':[0.01,0.1,1,10,100],\n",
    "    'solver':['newton-cg', 'lbfgs', 'liblinear', 'sag', 'saga'],\n",
    "    'max_iter':[10,100,1000,10000],\n",
    "    'multi_class':['auto', 'ovr', 'multinomial'],\n",
    "}\n",
    "cv=StratifiedKFold(5)"
   ]
  },
  {
   "cell_type": "code",
   "execution_count": 35,
   "id": "9db84299",
   "metadata": {},
   "outputs": [],
   "source": [
    "clf=RandomizedSearchCV(lgr_h,params,cv=cv,scoring='accuracy',n_jobs=-1,n_iter=100,verbose=3)"
   ]
  },
  {
   "cell_type": "code",
   "execution_count": 36,
   "id": "eb7925b3",
   "metadata": {},
   "outputs": [
    {
     "name": "stdout",
     "output_type": "stream",
     "text": [
      "Fitting 5 folds for each of 100 candidates, totalling 500 fits\n"
     ]
    },
    {
     "name": "stderr",
     "output_type": "stream",
     "text": [
      "/home/vaishu/.local/lib/python3.8/site-packages/sklearn/model_selection/_search.py:922: UserWarning: One or more of the test scores are non-finite: [       nan        nan 0.81487923 0.81478261 0.82357488        nan\n",
      " 0.82792271 0.82357488        nan        nan        nan 0.77951691\n",
      " 0.82357488 0.78405797        nan 0.82357488        nan 0.82357488\n",
      " 0.81487923        nan 0.82357488 0.80154589        nan        nan\n",
      "        nan        nan        nan 0.82792271 0.82347826        nan\n",
      " 0.78405797        nan 0.81478261        nan        nan        nan\n",
      "        nan        nan 0.82357488        nan 0.82357488        nan\n",
      " 0.45371981 0.79710145        nan 0.80589372        nan 0.82357488\n",
      " 0.78405797        nan        nan        nan 0.81487923 0.81487923\n",
      " 0.77951691        nan        nan 0.82357488        nan        nan\n",
      "        nan        nan        nan        nan        nan        nan\n",
      " 0.81487923        nan 0.78405797        nan        nan        nan\n",
      "        nan        nan        nan 0.81478261 0.82357488 0.82357488\n",
      " 0.81932367 0.81932367 0.45371981 0.82357488        nan 0.81487923\n",
      " 0.78405797 0.79710145        nan        nan        nan        nan\n",
      "        nan        nan 0.82357488        nan        nan 0.82357488\n",
      "        nan 0.78405797        nan        nan]\n",
      "  warnings.warn(\n",
      "/home/vaishu/.local/lib/python3.8/site-packages/sklearn/linear_model/_sag.py:328: ConvergenceWarning: The max_iter was reached which means the coef_ did not converge\n",
      "  warnings.warn(\"The max_iter was reached which means \"\n"
     ]
    },
    {
     "data": {
      "text/plain": [
       "RandomizedSearchCV(cv=StratifiedKFold(n_splits=5, random_state=None, shuffle=False),\n",
       "                   estimator=LogisticRegression(), n_iter=100, n_jobs=-1,\n",
       "                   param_distributions={'C': [0.01, 0.1, 1, 10, 100],\n",
       "                                        'max_iter': [10, 100, 1000, 10000],\n",
       "                                        'multi_class': ['auto', 'ovr',\n",
       "                                                        'multinomial'],\n",
       "                                        'penalty': ['l1', 'l2', 'elasticnet'],\n",
       "                                        'solver': ['newton-cg', 'lbfgs',\n",
       "                                                   'liblinear', 'sag',\n",
       "                                                   'saga']},\n",
       "                   scoring='accuracy', verbose=3)"
      ]
     },
     "execution_count": 36,
     "metadata": {},
     "output_type": "execute_result"
    }
   ],
   "source": [
    "clf.fit(x_train,y_train)"
   ]
  },
  {
   "cell_type": "code",
   "execution_count": 37,
   "id": "e0fb19b6",
   "metadata": {},
   "outputs": [
    {
     "data": {
      "text/plain": [
       "{'solver': 'sag',\n",
       " 'penalty': 'l2',\n",
       " 'multi_class': 'ovr',\n",
       " 'max_iter': 10,\n",
       " 'C': 100}"
      ]
     },
     "execution_count": 37,
     "metadata": {},
     "output_type": "execute_result"
    }
   ],
   "source": [
    "clf.best_params_"
   ]
  },
  {
   "cell_type": "code",
   "execution_count": 38,
   "id": "08bdd3b5",
   "metadata": {},
   "outputs": [
    {
     "name": "stderr",
     "output_type": "stream",
     "text": [
      "/home/vaishu/.local/lib/python3.8/site-packages/sklearn/linear_model/_sag.py:328: ConvergenceWarning: The max_iter was reached which means the coef_ did not converge\n",
      "  warnings.warn(\"The max_iter was reached which means \"\n"
     ]
    },
    {
     "data": {
      "text/plain": [
       "LogisticRegression(C=100, max_iter=10, multi_class='ovr', penalty='l1',\n",
       "                   solver='saga')"
      ]
     },
     "execution_count": 38,
     "metadata": {},
     "output_type": "execute_result"
    }
   ],
   "source": [
    "lgr_t=LogisticRegression(solver='saga',penalty='l1',multi_class='ovr',max_iter=10,C= 100)\n",
    "lgr_t.fit(x_train,y_train)"
   ]
  },
  {
   "cell_type": "code",
   "execution_count": 39,
   "id": "dfb4af62",
   "metadata": {},
   "outputs": [
    {
     "name": "stdout",
     "output_type": "stream",
     "text": [
      "score on train: 0.8414096916299559\n",
      "score on test: 0.8157894736842105\n"
     ]
    }
   ],
   "source": [
    "print(f\"score on train: {lgr_t.score(x_train,y_train)}\")\n",
    "print(f\"score on test: {lgr_t.score(x_test,y_test)}\")"
   ]
  },
  {
   "cell_type": "code",
   "execution_count": 40,
   "id": "edc3492d",
   "metadata": {},
   "outputs": [
    {
     "data": {
      "image/png": "[encoded data removed]",
      "text/plain": [
       "<Figure size 432x288 with 2 Axes>"
      ]
     },
     "metadata": {},
     "output_type": "display_data"
    }
   ],
   "source": [
    "# Revisited confusion matrix\n",
    "cm=confusion_matrix(y_test,lgr_t.predict(x_test))\n",
    "sns.heatmap(cm,annot=True,xticklabels=True,yticklabels=True)\n",
    "TN=cm[0,0]\n",
    "TP=cm[1,1]\n",
    "FP=cm[1,0]\n",
    "FN=cm[0,1]\n",
    "X= 'YTEST'\n",
    "Y='YPRED'"
   ]
  },
  {
   "cell_type": "code",
   "execution_count": 41,
   "id": "eb73f88d",
   "metadata": {},
   "outputs": [
    {
     "name": "stdout",
     "output_type": "stream",
     "text": [
      "Classification Accuracy: 0.8157894736842105\n",
      "Classification Error: 0.18421052631578946\n"
     ]
    }
   ],
   "source": [
    "#Classification Accuracy:\n",
    "CA=(TP+TN)/(TP+TN+FP+FN)\n",
    "print(f\"Classification Accuracy: {CA}\") # Model classified that much percent of data accurately\n",
    "\n",
    "\n",
    "\n",
    "#Classification Error:\n",
    "CE=(FP+FN)/(TP+TN+FP+FN)\n",
    "print(f\"Classification Error: {CE}\") # Model does not classified that much percent of data accurately"
   ]
  },
  {
   "cell_type": "markdown",
   "id": "5633f500",
   "metadata": {},
   "source": [
    "After tuning score becomes better and classification accuracy also increased."
   ]
  },
  {
   "cell_type": "markdown",
   "id": "d8fca44e",
   "metadata": {},
   "source": [
    "### Results & Conclusion:"
   ]
  },
  {
   "cell_type": "markdown",
   "id": "e939c0c6",
   "metadata": {},
   "source": [
    "1. The logistic regression model accuracy score is 0.8502. So, the model does a very good job in predicting whether or not patient has heart disease.\n",
    "\n",
    "2. Small number of observations predict that patient has no heart disease. Majority of observations predict that patient has heart disease.\n",
    "\n",
    "3. The model shows no signs of overfitting and underfitting.\n",
    "\n",
    "4. Decreasing the value of C i.e. C=0.1 results in higher test set accuracy and also a slightly change in training set accuracy. So, we can conclude that a more regulated model should perform better.\n",
    "\n",
    "5. Increasing the threshold level results in increased accuracy.\n",
    "\n",
    "6. ROC AUC of our model approaches towards 1. So, we can conclude that our classifier does a good job in predicting whether patient has heart disease or not.\n",
    "\n",
    "7. Our original model accuracy score is 0.8502 whereas accuracy score after RFECV is 0.8370. So, we can obtain accuracy reduced but with reduced set of features.\n",
    "\n",
    "8. Our original model test accuracy is 0.8502 while GridSearch CV accuracy is 0.8414.  whereas original test score is 0.8026 and hypertuned model test score is 0.8157 so we can obtain that RandomizedSearchCV improve the performance for this particular model."
   ]
  },
  {
   "cell_type": "code",
   "execution_count": null,
   "id": "f3a06688",
   "metadata": {},
   "outputs": [],
   "source": []
  }
 ],
 "metadata": {
  "kernelspec": {
   "display_name": "Python 3",
   "language": "python",
   "name": "python3"
  },
  "language_info": {
   "codemirror_mode": {
    "name": "ipython",
    "version": 3
   },
   "file_extension": ".py",
   "mimetype": "text/x-python",
   "name": "python",
   "nbconvert_exporter": "python",
   "pygments_lexer": "ipython3",
   "version": "3.8.5"
  }
 },
 "nbformat": 4,
 "nbformat_minor": 5
}
